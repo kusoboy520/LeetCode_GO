{
 "cells": [
  {
   "cell_type": "markdown",
   "metadata": {},
   "source": [
    "## 3. Longest Substring Without Repeating Characters\n",
    "\n",
    "Given a string s, find the length of the **longest substring** without repeating characters.\n",
    "\n",
    "***Example 1:***  \n",
    "Input: s = \"abcabcbb\"  \n",
    "Output: 3  \n",
    "Explanation: The answer is \"abc\", with the length of 3.  \n",
    "\n",
    "***Example 2:***  \n",
    "Input: s = \"bbbbb\"  \n",
    "Output: 1  \n",
    "Explanation: The answer is \"b\", with the length of 1.  \n",
    "\n",
    "***Example 3:***  \n",
    "Input: s = \"pwwkew\"  \n",
    "Output: 3  \n",
    "Explanation: The answer is \"wke\", with the length of 3.\n",
    "Notice that the answer must be a substring, \"pwke\" is a subsequence and not a substring.\n",
    " \n",
    "\n",
    "***Constraints:***  \n",
    "- 0 <= s.length <= 5 * 104\n",
    "- s consists of English letters, digits, symbols and spaces."
   ]
  },
  {
   "cell_type": "code",
   "execution_count": 56,
   "metadata": {},
   "outputs": [
    {
     "name": "stdout",
     "output_type": "stream",
     "text": [
      "tmmzuxt: 5\n",
      "abcabcbb: 3\n"
     ]
    }
   ],
   "source": [
    "# v1 move frames\n",
    "def lengthOfLongestSubstring(s:str) ->int :\n",
    "    left = 0\n",
    "    max_len = 0\n",
    "    move = 0\n",
    "    chars = set()\n",
    "    for i in range(len(s)):\n",
    "        while s[i] in chars:\n",
    "            chars.remove(s[move])\n",
    "            move += 1\n",
    "        chars.add(s[i])\n",
    "        if len(chars)> max_len:\n",
    "            max_len = len(chars)\n",
    "    return max_len\n",
    "print('tmmzuxt: ',lengthOfLongestSubstring('tmmzuxt'),'\\n',\n",
    "    'abcabcbb: ', lengthOfLongestSubstring('abcabcbb'), sep='')"
   ]
  },
  {
   "cell_type": "code",
   "execution_count": 57,
   "metadata": {},
   "outputs": [
    {
     "name": "stdout",
     "output_type": "stream",
     "text": [
      "tmmzuxt: 5\n",
      "abcabcbb: 3\n"
     ]
    }
   ],
   "source": [
    "# v2 hash\n",
    "## special string: 'abcabcbb':3, 'tmmzuxt':5\n",
    "def lengthOfLongestSubstring(s:str) -> int :\n",
    "    left, max_len, hash = 0,0,{}\n",
    "    for i in range(len(s)):\n",
    "        if s[i] in hash and hash[s[i]] >= left: # 若substring在hash裡面且在長度內\n",
    "            left = hash[s[i]] + 1\n",
    "            hash[s[i]] = i\n",
    "        else:\n",
    "            hash[s[i]] = i\n",
    "            max_len = max(max_len, i-left+1)\n",
    "    return max_len\n",
    "print('tmmzuxt: ',lengthOfLongestSubstring('tmmzuxt'),'\\n',\n",
    "    'abcabcbb: ', lengthOfLongestSubstring('abcabcbb'), sep='')"
   ]
  }
 ],
 "metadata": {
  "kernelspec": {
   "display_name": "Python 3.10.5 ('docker_env')",
   "language": "python",
   "name": "python3"
  },
  "language_info": {
   "codemirror_mode": {
    "name": "ipython",
    "version": 3
   },
   "file_extension": ".py",
   "mimetype": "text/x-python",
   "name": "python",
   "nbconvert_exporter": "python",
   "pygments_lexer": "ipython3",
   "version": "3.10.5"
  },
  "orig_nbformat": 4,
  "vscode": {
   "interpreter": {
    "hash": "b22656f8cb9eeea68440c518032981e033fc0ae426e3625775e6df525c599ea9"
   }
  }
 },
 "nbformat": 4,
 "nbformat_minor": 2
}
