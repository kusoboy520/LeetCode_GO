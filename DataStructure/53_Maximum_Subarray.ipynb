{
 "cells": [
  {
   "cell_type": "markdown",
   "metadata": {},
   "source": [
    "# 53. Maximum Subarray\n",
    "\n",
    "Given an integer array `nums`, find the contiguous subarray\n",
    "(containing at least one number) which has the largest sum and turn its sum\n",
    "\n",
    "***Example 1***  \n",
    "Input: nums=[-2,1,-3,4,-1,2,1,-5,4]  \n",
    "output: 6\n",
    "\n",
    "***Example 2***  \n",
    "Input: nums=[1]  \n",
    "output: 1\n",
    "\n",
    "***Example 3***  \n",
    "Input: nums=[5,4,-1,7,8]  \n",
    "output: 23\n"
   ]
  },
  {
   "cell_type": "code",
   "execution_count": null,
   "metadata": {},
   "outputs": [],
   "source": [
    "# two forloop O(n2)\n",
    "def maxSubArray(nums):\n",
    "    maxsum = max(nums)\n",
    "    for length in range(2,len(nums)):\n",
    "        for i, num in enumerate(nums):\n",
    "            if i + length <= len(nums):\n",
    "                maxsum = max(maxsum, sum(nums[i:i+length]))\n",
    "    return maxsum"
   ]
  },
  {
   "cell_type": "code",
   "execution_count": null,
   "metadata": {},
   "outputs": [],
   "source": [
    "# Kadane's Algorithm  \n",
    "# O(n)\n",
    "def maxSubArray(nums):\n",
    "    current = maxsum = nums[0]\n",
    "    for i in nums[1:]:\n",
    "        current = max(i, current+i) # 到目前第i個位置前的加總最大值\n",
    "        maxsum = max(maxsum, current)\n",
    "    return maxsum\n",
    "maxSubArray([-2,1,-3,4,-1,2,1,-5,4])"
   ]
  }
 ],
 "metadata": {
  "kernelspec": {
   "display_name": "Python 3.10.6 ('nlp_udemy')",
   "language": "python",
   "name": "python3"
  },
  "language_info": {
   "codemirror_mode": {
    "name": "ipython",
    "version": 3
   },
   "file_extension": ".py",
   "mimetype": "text/x-python",
   "name": "python",
   "nbconvert_exporter": "python",
   "pygments_lexer": "ipython3",
   "version": "3.10.6"
  },
  "orig_nbformat": 4,
  "vscode": {
   "interpreter": {
    "hash": "1886b3fdf6e7191fe99f900ccb5809af49e64c1b311c7d26bf37ed9bcb26a94a"
   }
  }
 },
 "nbformat": 4,
 "nbformat_minor": 2
}
