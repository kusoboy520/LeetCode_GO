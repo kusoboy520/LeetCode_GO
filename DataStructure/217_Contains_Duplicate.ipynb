{
 "cells": [
  {
   "cell_type": "markdown",
   "metadata": {},
   "source": [
    "# 217. Contains Duplicate\n",
    "\n",
    "Given an integer array `nums`\n",
    "\n",
    "***Example 1:***  \n",
    "Input: nums = [1, 2, 3, 1]\n",
    "Output: True\n",
    "\n",
    "***Example 2:***  \n",
    "Input: nums = [1, 2, 3, 4]  \n",
    "Output: False\n",
    "\n",
    "***Example 3:***  \n",
    "Input: nums = [1, 1, ,1 3, 3, 4, 3] \n",
    "Output: True\n"
   ]
  },
  {
   "cell_type": "code",
   "execution_count": null,
   "metadata": {},
   "outputs": [],
   "source": [
    "# create set\n",
    "tmp = []\n",
    "def containsDuplicate(nums):\n",
    "    for i in nums:\n",
    "        if i in tmp:\n",
    "            return True\n",
    "        else:\n",
    "            tmp = tmp.append(i)\n",
    "    return False"
   ]
  },
  {
   "cell_type": "code",
   "execution_count": null,
   "metadata": {},
   "outputs": [],
   "source": [
    "# check by length\n",
    "def containsDuplicate(nums):\n",
    "    '''\n",
    "    type nums: List[int]\n",
    "    rtype: bool\n",
    "    '''\n",
    "    if len(nums) != len(set(nums)):\n",
    "        return True\n",
    "    return False\n",
    "\n",
    "# faster\n",
    "def containsDuplicate(nums):\n",
    "    return len(nums) != len(set(nums))"
   ]
  },
  {
   "cell_type": "code",
   "execution_count": null,
   "metadata": {},
   "outputs": [],
   "source": [
    "# Sorting\n",
    "def containsDuplicate(nums):\n",
    "    nums.sort()\n",
    "    for i in range(len(nums)-1):\n",
    "        if nums[i]==nums[i+1]:\n",
    "            return True\n",
    "    return False\n"
   ]
  }
 ],
 "metadata": {
  "kernelspec": {
   "display_name": "Python 3.9.6 64-bit",
   "language": "python",
   "name": "python3"
  },
  "language_info": {
   "name": "python",
   "version": "3.9.6"
  },
  "orig_nbformat": 4,
  "vscode": {
   "interpreter": {
    "hash": "31f2aee4e71d21fbe5cf8b01ff0e069b9275f58929596ceb00d14d90e3e16cd6"
   }
  }
 },
 "nbformat": 4,
 "nbformat_minor": 2
}
