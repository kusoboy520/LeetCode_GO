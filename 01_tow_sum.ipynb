{
 "cells": [
  {
   "cell_type": "markdown",
   "metadata": {},
   "source": [
    "## 1. Two Sum  \n",
    "\n",
    "Given an array of integers nums and an integer target, return indices of the two numbers such that they add up to target.\n",
    "\n",
    "You may assume that each input would have exactly one solution, and you may not use the same element twice.\n",
    "\n",
    "You can return the answer in any order.\n",
    "\n",
    "***Example 1:***  \n",
    "Input: nums = [2,7,11,15], target = 9  \n",
    "Output: [0,1]  \n",
    "Explanation: Because nums[0] + nums[1] == 9,we return [0, 1]\n",
    "\n",
    "***Example 2:***  \n",
    "Input: nums = [3,2,4], target = 6  \n",
    "Output: [1,2]  \n",
    "\n",
    "***Example 3:***  \n",
    "Input: nums = [3,3], target = 6  \n",
    "Output: [0,1]  \n",
    "\n",
    "***Constraints:***  \n",
    "- 2 <= nums.length <= 104\n",
    "- -109 <= nums[i] <= 109\n",
    "- -109 <= target <= 109\n",
    "- Only one valid answer exists."
   ]
  },
  {
   "cell_type": "code",
   "execution_count": 1,
   "metadata": {},
   "outputs": [],
   "source": [
    "from typing import List"
   ]
  },
  {
   "cell_type": "code",
   "execution_count": 11,
   "metadata": {},
   "outputs": [],
   "source": [
    "def twoSum(nums:List[int], target: int) -> List[int] :\n",
    "    hash_dict={}\n",
    "    for i, num in enumerate(nums):\n",
    "        if target - num in hash_dict:\n",
    "            return [hash_dict[target-num], i]\n",
    "        else:\n",
    "            hash_dict[num]=i\n",
    "    return None"
   ]
  }
 ],
 "metadata": {
  "kernelspec": {
   "display_name": "Python 3.10.5 ('docker_env')",
   "language": "python",
   "name": "python3"
  },
  "language_info": {
   "codemirror_mode": {
    "name": "ipython",
    "version": 3
   },
   "file_extension": ".py",
   "mimetype": "text/x-python",
   "name": "python",
   "nbconvert_exporter": "python",
   "pygments_lexer": "ipython3",
   "version": "3.10.5"
  },
  "orig_nbformat": 4,
  "vscode": {
   "interpreter": {
    "hash": "b22656f8cb9eeea68440c518032981e033fc0ae426e3625775e6df525c599ea9"
   }
  }
 },
 "nbformat": 4,
 "nbformat_minor": 2
}
